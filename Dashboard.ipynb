{
 "cells": [
  {
   "cell_type": "markdown",
   "metadata": {},
   "source": [
    "[DIY Disease Tracking Dashboard Kit](https://github.com/fsmeraldi/diy-covid19dash) (C) Fabrizio Smeraldi, 2020,2024 ([f.smeraldi@qmul.ac.uk](mailto:f.smeraldi@qmul.ac.uk) - [web](http://www.eecs.qmul.ac.uk/~fabri/)). This notebook is released under the [GNU GPLv3.0 or later](https://www.gnu.org/licenses/)."
   ]
  },
  {
   "cell_type": "markdown",
   "metadata": {},
   "source": [
    "# DIY Disease Tracking Dashboard"
   ]
  },
  {
   "cell_type": "code",
   "execution_count": 40,
   "metadata": {},
   "outputs": [],
   "source": [
    "from IPython.display import display, clear_output\n",
    "import ipywidgets as wdg\n",
    "import pandas as pd\n",
    "import numpy as np\n",
    "import matplotlib.pyplot as plt\n",
    "import requests\n",
    "import time\n",
    "import json"
   ]
  },
  {
   "cell_type": "code",
   "execution_count": 41,
   "metadata": {},
   "outputs": [],
   "source": [
    "%matplotlib inline\n",
    "# make figures larger\n",
    "plt.rcParams['figure.dpi'] = 100"
   ]
  },
  {
   "cell_type": "markdown",
   "metadata": {},
   "source": [
    "## API"
   ]
  },
  {
   "cell_type": "code",
   "execution_count": 42,
   "metadata": {},
   "outputs": [],
   "source": [
    "def access_api(theme, sub_theme, topic, geography_type, geography, metric, **optional_params):\n",
    "    page_size = 99999  # Define the default page size\n",
    "\n",
    "    base_url = \"https://api.ukhsa-dashboard.data.gov.uk/themes\"\n",
    "    \n",
    "    # Construct the full URL\n",
    "    url = f\"{base_url}/{theme}/sub_themes/{sub_theme}/topics/{topic}/geography_types/{geography_type}/geographies/{geography}/metrics/{metric}\"\n",
    "    \n",
    "    # Include page_size in optional_params (ensuring it's a part of the query)\n",
    "    optional_params['page_size'] = page_size\n",
    "    \n",
    "    # Send GET request with optional parameters\n",
    "    response = requests.get(url, params=optional_params)\n",
    "    \n",
    "    # Parse response to JSON\n",
    "    try:\n",
    "        response_data = response.json()\n",
    "        results = response_data.get('results', [])  # Safely get 'results' key, default to empty list if not found\n",
    "        data = pd.DataFrame(results)  # Directly create DataFrame from 'results'\n",
    "    except Exception as e:\n",
    "        print(f\"Error fetching or converting data: {e}\")\n",
    "        data = pd.DataFrame()  # Return an empty DataFrame in case of error\n",
    "    return data"
   ]
  },
  {
   "cell_type": "code",
   "execution_count": 43,
   "metadata": {},
   "outputs": [],
   "source": [
    "# https://api.ukhsa-dashboard.data.gov.uk/themes/infectious_disease/sub_themes/respiratory/topics/COVID-19/geography_types/Nation/geographies/England/metrics/COVID-19_cases_casesByDay"
   ]
  },
  {
   "cell_type": "code",
   "execution_count": 44,
   "metadata": {},
   "outputs": [],
   "source": [
    "def fetch_options(url,param):\n",
    "    urls = url + param\n",
    "    try:\n",
    "        response = requests.get(urls)\n",
    "        response.raise_for_status()\n",
    "        data = response.json()\n",
    "        return [item['name'] for item in data]  # Extract names \n",
    "    except Exception as e:\n",
    "        print(f\"Error fetching options: {e}\")\n",
    "        return [\"Error\"]\n"
   ]
  },
  {
   "cell_type": "code",
   "execution_count": 45,
   "metadata": {},
   "outputs": [],
   "source": [
    "def clean_dataframe(df):\n",
    "    # Drop columns that are all the same\n",
    "    df = df.loc[:, df.nunique() != 1]\n",
    "    \n",
    "    # Convert date to datetime\n",
    "    if 'date' in df.columns:\n",
    "        df['date'] = pd.to_datetime(df['date'])\n",
    "    \n",
    "    print(df.dtypes)\n",
    "    return df"
   ]
  },
  {
   "cell_type": "code",
   "execution_count": 46,
   "metadata": {},
   "outputs": [],
   "source": [
    "url = \"https://api.ukhsa-dashboard.data.gov.uk/themes/infectious_disease/sub_themes/\""
   ]
  },
  {
   "cell_type": "code",
   "execution_count": 47,
   "metadata": {},
   "outputs": [],
   "source": [
    "def url_to_dict(url):\n",
    "    # Remove the protocol and domain, extract only the path\n",
    "    path = url.split(\"//\")[-1].split(\"/\", 1)[-1]\n",
    "    \n",
    "    # Split the path into components\n",
    "    components = [component for component in path.split(\"/\") if component]\n",
    "    \n",
    "    # Form a dictionary by pairing consecutive components\n",
    "    return {components[i]: components[i + 1] for i in range(0, len(components) - 1, 2)}\n"
   ]
  },
  {
   "cell_type": "code",
   "execution_count": 48,
   "metadata": {},
   "outputs": [],
   "source": [
    "df = pd.DataFrame()"
   ]
  },
  {
   "cell_type": "code",
   "execution_count": null,
   "metadata": {},
   "outputs": [
    {
     "name": "stdout",
     "output_type": "stream",
     "text": [
      "Fetched data: [{'name': 'bloodstream_infection', 'link': 'https://api.ukhsa-dashboard.data.gov.uk/themes/infectious_disease/sub_themes/bloodstream_infection'}, {'name': 'gastrointestinal', 'link': 'https://api.ukhsa-dashboard.data.gov.uk/themes/infectious_disease/sub_themes/gastrointestinal'}, {'name': 'respiratory', 'link': 'https://api.ukhsa-dashboard.data.gov.uk/themes/infectious_disease/sub_themes/respiratory'}, {'name': 'vaccine_preventable', 'link': 'https://api.ukhsa-dashboard.data.gov.uk/themes/infectious_disease/sub_themes/vaccine_preventable'}]\n",
      "Current URL: https://api.ukhsa-dashboard.data.gov.uk/themes/infectious_disease/sub_themes/\n",
      "name key found\n"
     ]
    },
    {
     "data": {
      "application/vnd.jupyter.widget-view+json": {
       "model_id": "c0a190cb00f644878f32d6af7c8bdb93",
       "version_major": 2,
       "version_minor": 0
      },
      "text/plain": [
       "Dropdown(description='Option:', options=('bloodstream_infection', 'gastrointestinal', 'respiratory', 'vaccine_…"
      ]
     },
     "metadata": {},
     "output_type": "display_data"
    },
    {
     "data": {
      "application/vnd.jupyter.widget-view+json": {
       "model_id": "7aea0ed4399d4ac9b9724f0fb1c8ec21",
       "version_major": 2,
       "version_minor": 0
      },
      "text/plain": [
       "Button(button_style='warning', description='Fetch Data', icon='exclamation-triangle', style=ButtonStyle(), too…"
      ]
     },
     "metadata": {},
     "output_type": "display_data"
    },
    {
     "name": "stdout",
     "output_type": "stream",
     "text": [
      "Empty url\n",
      "Data refreshed\n",
      "{}\n"
     ]
    }
   ],
   "source": [
    "# Create a button for submitting all values\n",
    "submit_button = wdg.Button(\n",
    "    description=\"Submit\",\n",
    "    disabled=False,\n",
    "    button_style='primary',\n",
    "    tooltip=\"Click to submit the data\",\n",
    "    icon='check'\n",
    ")\n",
    "\n",
    "# Define the button click handler\n",
    "def on_button_click(b):\n",
    "    print(\"Button clicked!\")\n",
    "    # Collect values from all the input fields, but only include non-empty fields\n",
    "    global input_fields\n",
    "    global url_dict\n",
    "    form_data = {param_name: input_fields[param_name].value for param_name in input_fields if input_fields[param_name].value != ''}\n",
    "    print(f\"Form data submitted (non-empty values only): {form_data}\")\n",
    "    try:\n",
    "        response = access_api(\n",
    "            theme= url_dict['themes'],\n",
    "            sub_theme= url_dict['sub_themes'],\n",
    "            topic= url_dict['topics'],\n",
    "            geography_type= url_dict['geography_types'],\n",
    "            geography= url_dict['geographies'],\n",
    "            metric= url_dict['metrics'],\n",
    "            **form_data  # Passing the collected form data\n",
    "        )\n",
    "        global df\n",
    "        df = pd.DataFrame(response)\n",
    "        # print(df)\n",
    "        # Clean the dataframe\n",
    "        df = clean_dataframe(df)\n",
    "        # display(starOver_button)\n",
    "    except Exception as e:\n",
    "        print(\"Error fetching data:\", e)\n",
    "\n",
    "submit_button.on_click(on_button_click)\n",
    "\n",
    "\n",
    "starOver_button = wdg.Button(\n",
    "    description=\"Start Over\",\n",
    "    disabled=False,\n",
    "    button_style='info',\n",
    "    tooltip=\"Click to refresh the data\",\n",
    "    icon='refresh'\n",
    ")\n",
    "# if the button is clicked, fetch data\n",
    "def on_refresh_button_click(b):\n",
    "    fetch_data_dynamic_levels(url)\n",
    "    # display(submit_button)\n",
    "    print(\"Data refreshed\")\n",
    "    url_dict.clear()\n",
    "    print(url_dict)\n",
    "starOver_button.on_click(on_refresh_button_click)\n",
    "display(starOver_button)"
   ]
  },
  {
   "cell_type": "code",
   "execution_count": 50,
   "metadata": {},
   "outputs": [],
   "source": [
    "final_url = None  # Global variable to store the final URL\n",
    "url_dict = {}\n",
    "input_fields = {}\n",
    "\n",
    "def fetch_data_dynamic_levels(url, cp=True):\n",
    "    global final_url\n",
    "    clear_output()\n",
    "    try:\n",
    "        response = requests.get(url)\n",
    "        response.raise_for_status()\n",
    "        data = response.json()\n",
    "\n",
    "        print(\"Fetched data:\", data)\n",
    "\n",
    "        if not data:\n",
    "            print(\"No data received.\")\n",
    "            final_url = url  # Store the URL if no data is fetched\n",
    "\n",
    "        print(f\"Current URL: {url}\")\n",
    "\n",
    "        if 'results' in data:\n",
    "            print(\"results key found\")\n",
    "            final_url = url  # Store the URL and stop recursion\n",
    "               # Parameters to create input fields for\n",
    "            params = {\n",
    "                'stratum': None,\n",
    "                'sex': None,\n",
    "                'age': None,\n",
    "                'year': None,\n",
    "                'month': None,\n",
    "                'epiweek': None,\n",
    "                'date': None,\n",
    "                'metric_value': None,\n",
    "                'in_reporting_delay_period': None\n",
    "            }\n",
    "\n",
    "            # Create an empty dictionary to hold the input fields\n",
    "            global input_fields \n",
    "\n",
    "            df = pd.DataFrame()\n",
    "\n",
    "            # Create input fields for each parameter\n",
    "            for param_name in params.keys():\n",
    "                # Create a text input for each parameter\n",
    "                input_fields[param_name] = wdg.Text(\n",
    "                    value='',\n",
    "                    description=f'{param_name.capitalize()}:',\n",
    "                    disabled=False\n",
    "                )\n",
    "                display(input_fields[param_name])\n",
    "        \n",
    "            display(starOver_button, submit_button)\n",
    "\n",
    "    \n",
    "        elif 'name' in data[0]:\n",
    "            print(\"name key found\")\n",
    "            param = [item['name'] for item in data]\n",
    "\n",
    "            param_dropdown = wdg.Dropdown(options=param, description=\"Option:\")\n",
    "            display(param_dropdown)\n",
    "\n",
    "            button = wdg.Button(\n",
    "                description='Fetch Data',\n",
    "                disabled=False,\n",
    "                button_style='warning',\n",
    "                tooltip=\"Click to fetch data\",\n",
    "                icon='exclamation-triangle'\n",
    "            )\n",
    "            display(button)\n",
    "\n",
    "            def on_button_click(b):\n",
    "                selected_value = param_dropdown.value\n",
    "                print(f\"Selected: {selected_value}\")\n",
    "\n",
    "                if cp:\n",
    "                    updated_url = f\"{url}{selected_value}\"\n",
    "                else:\n",
    "                    updated_url = f\"{url}/{selected_value}\"\n",
    "                print(f\"Updated URL: {updated_url}\")\n",
    "                # update the tracker\n",
    "                \n",
    "                fetch_data_dynamic_levels(updated_url, False)\n",
    "\n",
    "            button.on_click(on_button_click)\n",
    "\n",
    "        elif 'name' not in data[0]:\n",
    "            print(\"name key not found, updating URL with key\")\n",
    "            if not isinstance(data[0], dict):\n",
    "                print(\"Expected a dictionary structure, but found:\", type(data[0]))\n",
    "                final_url = url  # Store the URL if the data structure is not as expected\n",
    "                return\n",
    "            key = list(data[0].keys())\n",
    "            print(f\"Possible keys: {key}\")\n",
    "            updated_url = url + '/' + key[0]\n",
    "            print(f\"Updated URL: {updated_url}\")\n",
    "            fetch_data_dynamic_levels(updated_url, False)  # Continue recursion with updated URL\n",
    "\n",
    "        else:\n",
    "            print(f\"No valid data returned for URL: {url}. Ending recursion.\")\n",
    "            final_url = url  # Store the URL if no valid data is found\n",
    "\n",
    "    except Exception as e:\n",
    "        print(f\"Error fetching data: {e}\")\n",
    "        final_url = url  # Store the URL even in case of an error\n",
    "    global url_dict\n",
    "    \n",
    "    try:\n",
    "        url_dict = url_to_dict(final_url)\n",
    "        print(\"URL Dictionary:\", url_dict)\n",
    "    except Exception as e:\n",
    "        print(\"Empty url\")"
   ]
  },
  {
   "cell_type": "markdown",
   "metadata": {},
   "source": [
    "## Graphs and Analysis"
   ]
  },
  {
   "cell_type": "markdown",
   "metadata": {},
   "source": [
    "Include at least one graph with interactive controls, as well as some instructions for the user and/or comments on what the graph represents and how it should be explored (this example shows two random walks)"
   ]
  },
  {
   "cell_type": "code",
   "execution_count": 51,
   "metadata": {},
   "outputs": [
    {
     "name": "stdout",
     "output_type": "stream",
     "text": [
      "month                    int64\n",
      "epiweek                  int64\n",
      "date            datetime64[ns]\n",
      "metric_value           float64\n",
      "dtype: object\n"
     ]
    },
    {
     "name": "stderr",
     "output_type": "stream",
     "text": [
      "/var/folders/xz/1hvm646d7b76l4g8r9hs66wc0000gn/T/ipykernel_56402/2526020057.py:7: SettingWithCopyWarning: \n",
      "A value is trying to be set on a copy of a slice from a DataFrame.\n",
      "Try using .loc[row_indexer,col_indexer] = value instead\n",
      "\n",
      "See the caveats in the documentation: https://pandas.pydata.org/pandas-docs/stable/user_guide/indexing.html#returning-a-view-versus-a-copy\n",
      "  df['date'] = pd.to_datetime(df['date'])\n"
     ]
    }
   ],
   "source": [
    "defalt_response = access_api(\n",
    "    theme=\"infectious_disease\",\n",
    "    sub_theme=\"respiratory\",\n",
    "    topic=\"COVID-19\",\n",
    "    geography_type=\"Nation\",\n",
    "    geography=\"England\",\n",
    "    metric=\"COVID-19_cases_casesByDay\",\n",
    "    year=2022\n",
    ")\n",
    "# convert json to dataframe\n",
    "df = pd.DataFrame(defalt_response)\n",
    "df = clean_dataframe(df)"
   ]
  },
  {
   "cell_type": "code",
   "execution_count": 52,
   "metadata": {},
   "outputs": [
    {
     "data": {
      "application/vnd.jupyter.widget-view+json": {
       "model_id": "28e7e19f20b542df8eab3e2c1d093b63",
       "version_major": 2,
       "version_minor": 0
      },
      "text/plain": [
       "GridBox(children=(Dropdown(description='Walk no: ', options=('month', 'epiweek', 'metric_value'), value='month…"
      ]
     },
     "metadata": {},
     "output_type": "display_data"
    },
    {
     "data": {
      "application/vnd.jupyter.widget-view+json": {
       "model_id": "b7c0ba52a53f4fafa4788749594f052d",
       "version_major": 2,
       "version_minor": 0
      },
      "text/plain": [
       "Button(button_style='info', description='Refresh Data', icon='refresh', style=ButtonStyle(), tooltip='Click to…"
      ]
     },
     "metadata": {},
     "output_type": "display_data"
    },
    {
     "data": {
      "application/vnd.jupyter.widget-view+json": {
       "model_id": "27e7d59d2d1f4c4db8e2503cf56124b4",
       "version_major": 2,
       "version_minor": 0
      },
      "text/plain": [
       "Output()"
      ]
     },
     "metadata": {},
     "output_type": "display_data"
    }
   ],
   "source": [
    "def plot_random_walk(walk, gscale, slider):\n",
    "\n",
    "    global df\n",
    "    \"\"\"Plot the selected data series from the DataFrame using 'date' as x-axis with zoom functionality.\"\"\"\n",
    "    \n",
    "    if df.empty:\n",
    "        print(\"DataFrame is empty. Please load data before plotting.\")\n",
    "        return\n",
    "    \n",
    "    # Check if the selected walk exists in the DataFrame\n",
    "    if walk in df.columns:\n",
    "        # Clear the previous plot\n",
    "        plt.clf()\n",
    "        \n",
    "        # Plot the selected column using 'date' as the x-axis\n",
    "        ax = df.plot(x='date', y=walk, kind='line', logy=(gscale == 'log'))\n",
    "        \n",
    "        # Zoom effect: adjust the x-axis and y-axis limits based on slider value\n",
    "        zoom_factor = slider  # The slider value affects the zoom level\n",
    "        \n",
    "        # Calculate the zoom ranges (adjust these values based on your data's range)\n",
    "        x_min = df['date'].min() + (df['date'].max() - df['date'].min()) * (1 - zoom_factor)\n",
    "        x_max = df['date'].min() + (df['date'].max() - df['date'].min()) * zoom_factor\n",
    "        y_min = df[walk].min() + (df[walk].max() - df[walk].min()) * (1 - zoom_factor)\n",
    "        y_max = df[walk].min() + (df[walk].max() - df[walk].min()) * zoom_factor\n",
    "        \n",
    "        # Set new x and y limits\n",
    "        ax.set_xlim(x_min, x_max)\n",
    "        ax.set_ylim(y_min, y_max)\n",
    "\n",
    "        # Set plot title and labels\n",
    "        plt.title(f\"Plot of {walk}\")\n",
    "        plt.xlabel(\"date\")  # X-axis is 'date'\n",
    "        plt.ylabel(walk)    # Y-axis is the selected column (e.g., 'metric_value')\n",
    "        plt.grid(True)      # Optional: to show grid lines for better readability\n",
    "        plt.show()\n",
    "    else:\n",
    "        print(f\"Column '{walk}' not found in the DataFrame.\")\n",
    "\n",
    "\n",
    "whichwalk = wdg.Dropdown(\n",
    "    options=[col for col in df.columns if col != 'date'],  # Exclude 'date' from the dropdown options\n",
    "    value=df.columns[0],  # Default value to the first column\n",
    "    description='Walk no: ',\n",
    "    disabled=False,\n",
    ")\n",
    "\n",
    "# Radio button widget to select the scale\n",
    "scale = wdg.RadioButtons(\n",
    "    options=['linear', 'log'],\n",
    "    value='linear',  # Default scale\n",
    "    description='Scale:',\n",
    "    disabled=False\n",
    ")\n",
    "\n",
    "# Use a FloatSlider for zoom functionality, ranging from 0.1 to 1.0\n",
    "slider = wdg.FloatSlider(\n",
    "    value=1.0,   # Default zoom value (no zoom)\n",
    "    min=0.1,     # Minimum zoom value (high zoom out)\n",
    "    max=1.0,     # Maximum zoom value (no zoom)\n",
    "    step=0.01,   # Step size for finer zoom control\n",
    "    description='Zoom',\n",
    ")\n",
    "\n",
    "control = wdg.GridBox([whichwalk, scale, slider])\n",
    "\n",
    "# refresh df button\n",
    "refresh_df_button = wdg.Button(\n",
    "    description=\"Refresh Data\",\n",
    "    disabled=False,\n",
    "    button_style='info',\n",
    "    tooltip=\"Click to refresh the data,then choose a new walk\",\n",
    "    icon='refresh'\n",
    ")\n",
    "\n",
    "def on_refresh_df_button_click(b):\n",
    "    global df\n",
    "    df = clean_dataframe(df)\n",
    "    print(\"Data refreshed\")\n",
    "    print(df)\n",
    "refresh_df_button.on_click(on_refresh_df_button_click)\n",
    "\n",
    "\n",
    "# Connect the widgets to the plot function using interactive_output\n",
    "graph = wdg.interactive_output(plot_random_walk, {'walk': whichwalk, 'gscale': scale, 'slider': slider})\n",
    "\n",
    "# Display the widget and graph\n",
    "display(control, refresh_df_button,graph)"
   ]
  },
  {
   "cell_type": "markdown",
   "metadata": {},
   "source": [
    "## Deploying the dashboard\n",
    "\n",
    "Once your code is ready and you are satisfied with the appearance of the graphs, replace all the text boxes above with the explanations you would like a dashboard user to see. The next step is deploying the dashboard online - there are several [options](https://voila.readthedocs.io/en/stable/deploy.html) for this, we suggest deploying as a [Binder](https://mybinder.org/). This is basically the same technique that has been used to package this tutorial and to deploy this template dashboard. The instructions may seem a bit involved, but the actual steps are surprisingly easy - we will be going through them together during a live session. You will need an account on [GitHub](https://github.com/) for this - if you don't have one already, now it's the time to create it. "
   ]
  },
  {
   "cell_type": "markdown",
   "metadata": {},
   "source": [
    "**Author and License** Remember that if you deploy your dashboard as a Binder it will be publicly accessible. Change the copyright notice and take credit for your work! Also acknowledge your sources and the conditions of the license by including this notice: \"Based on UK Government [data](https://ukhsa-dashboard.data.gov.uk/) published by the [UK Health Security Agency](https://www.gov.uk/government/organisations/uk-health-security-agency) and on the [DIY Disease Tracking Dashboard Kit](https://github.com/fsmeraldi/diy-covid19dash) by Fabrizio Smeraldi. Released under the [GNU GPLv3.0 or later](https://www.gnu.org/licenses/).\""
   ]
  }
 ],
 "metadata": {
  "kernelspec": {
   "display_name": "base",
   "language": "python",
   "name": "python3"
  },
  "language_info": {
   "codemirror_mode": {
    "name": "ipython",
    "version": 3
   },
   "file_extension": ".py",
   "mimetype": "text/x-python",
   "name": "python",
   "nbconvert_exporter": "python",
   "pygments_lexer": "ipython3",
   "version": "3.12.4"
  }
 },
 "nbformat": 4,
 "nbformat_minor": 4
}
